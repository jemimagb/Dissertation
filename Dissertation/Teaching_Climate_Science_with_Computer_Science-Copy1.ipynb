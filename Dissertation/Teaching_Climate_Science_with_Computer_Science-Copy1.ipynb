{
 "cells": [
  {
   "cell_type": "markdown",
   "metadata": {},
   "source": [
    "<center> <img src=\"Logo.png\"/></center>\n",
    "\n",
    "\n",
    "This project aims to teach you how to build your own carbon footprint calculator. \n",
    "Throught the course of this notebook, you'll learn the necessary Python skills to create and run a carbon footprint calculator based on your own consumption data. There are lots of free resources online to assist if needed. We have included a cheat sheet in the documentation for this course that should answer most questions but a quick search of <a href=\"https://stackoverflow.com\">Stack Overflow </a> usually provides good answers too.\n",
    "\n",
    "<h2><center><span style='color:darkolivegreen'>Introduction to computer science (and the climate science to go with it) </span></center></h2>\n",
    "<h5><span style='color:olivedrab'> Lists and Print Statements </span></h5>\n",
    "\n",
    "To begin coding our calculator we need to think about all the things a person does that produce carbon emissions. Can you name some of the things that produce carbon emissions and print them in the cell below? \n",
    "\n",
    "***Hint:*** *You can run the code titled \"Carbon Emission Producing Activities\" below for the answer we're going to use throughout this course*"
   ]
  },
  {
   "cell_type": "code",
   "execution_count": null,
   "metadata": {
    "scrolled": true
   },
   "outputs": [],
   "source": [
    "list1 = [] # Here we are creating an empty list\n",
    "list1 = [item for item in input(\"Enter carbon producing activities : \").split()] \n",
    "\n",
    "# The line above fills the list with the user input. Split ensures the words entered are seperate items in the list. \n",
    "# BE CAREFUL, don't add commas in your input, seperate words with a space. \n",
    "\n",
    "print(list1) # This prints our list "
   ]
  },
  {
   "cell_type": "code",
   "execution_count": null,
   "metadata": {},
   "outputs": [],
   "source": [
    "# Carbon Emission Producing Activities\n",
    "list2 = []\n",
    "list2 = \"Transport\", \"Food\", \"Energy\", \"Goods and Services\", \"Industry\", \"Waste\"\n",
    "print(list2)"
   ]
  },
  {
   "cell_type": "markdown",
   "metadata": {},
   "source": [
    "Obviously we can select whatever variables we like for the carbon footprint calculator, and we can choose how detailed we want to go. In this case, the category of \"Transport\" could be split into: flights, car journeys, train trips etc. The same is the case for \"Industry\", which encompasses the emissions produced by the country as a whole through education, healthcare, manufacturing, mining etc. In the case of industrial emissions these are shared between individuals as we all use, benefit from, or contribute to the output of those emissions, whether directly or indirectly."
   ]
  },
  {
   "cell_type": "markdown",
   "metadata": {},
   "source": [
    "<center>Now print your own list of subcatgories in the cells below to practice!</center>"
   ]
  },
  {
   "cell_type": "code",
   "execution_count": null,
   "metadata": {},
   "outputs": [],
   "source": [
    "#Transport list\n",
    "\n",
    "transport_list = []        # We have started you off here with an empty list. Fill it with items and print!\n"
   ]
  },
  {
   "cell_type": "code",
   "execution_count": null,
   "metadata": {},
   "outputs": [],
   "source": [
    "#Energy list\n",
    "\n",
    "# We've left this cell blank for you to fill with your own code. Think about the things that would influence \n",
    "# the energy emissions of an individual. Energy type is the obvious one, but what else effects how much energy\n",
    "# a person uses?"
   ]
  },
  {
   "cell_type": "markdown",
   "metadata": {},
   "source": [
    "<center><span style='color:goldenrod'><b>Congratulations!</b> You've just written your first few programmes!</span></center> "
   ]
  },
  {
   "cell_type": "markdown",
   "metadata": {},
   "source": [
    "<img src=\"whwl_intro.png\"/>\n"
   ]
  },
  {
   "cell_type": "markdown",
   "metadata": {},
   "source": [
    "<h2><center><span style='color:darkolivegreen'>Functions</span></center></h2>\n",
    "\n",
    "\n",
    "Above we looked at several \"functions\" that are built into our programming language, Python. A function is just an operation, or a process. The print( ) function prints things, for example. The advantage of writing our own functions is that they can be repeated throughout a programme or be used with lots of different inputs, thereby reducing the amount of code you need to write. In order to write a programme like a carbon footprint calculator, we need to learn to write our own functions. \n",
    "\n",
    "<h5><span style='color:olivedrab'>Comparing Lists</span></h5>\n",
    "\n",
    "We will start with a simple example to write our own function: comparing one list with another. We'll use this to compare list1 (the activities inputted by you in first coding cell) with list2 (the suggested activities in the second coding cell.)"
   ]
  },
  {
   "cell_type": "code",
   "execution_count": null,
   "metadata": {},
   "outputs": [],
   "source": [
    "# Is the list you entered in the first example the same as the list in the second cell? \n",
    "# N.B. This will only work if you have \"run\" the two code kernels above.\n",
    "\n",
    "import functools \n",
    "\n",
    "def compare_lists(l1,l2):\n",
    " \n",
    "    if functools.reduce(lambda x, y : x and y, map(lambda p, q: p == q,l1,l2), True): \n",
    "        print (\"The lists are the same\") \n",
    "    else: \n",
    "        print (\"The lists are not the same\")\n",
    "        \n",
    "compare_lists(list2, list1)\n"
   ]
  },
  {
   "cell_type": "markdown",
   "metadata": {},
   "source": [
    "You may run into errors with this one! Pyton takes everything literally. If your lists are not EXACTLY the same, this function will return \"The lists are not the same\". Check for comma differences, spelling differences etc. in your list."
   ]
  },
  {
   "cell_type": "markdown",
   "metadata": {},
   "source": [
    "We've introduced lots of new things here. <b>functools</b> is a Python library that contains the necessary operations that enable us to manipulate our lists. Usually when coding a programme, you'll need a few different libraries to help you out - we'll introduce some more later!\n",
    "\n",
    "<h5>reduce, lambda, map, true?</h5> \n",
    "\n",
    "Here <b>map()</b> and <b>reduce()</b> are used to apply computation (or our comparison, in this case) over the entirety of our lists. \n",
    "<b>lambda</b> can take multiple arguments and outputs a single expression (<span style='color:goldenrod'>an <b>argument</b> is just information that you provide a function</span>). If you'd like to know more about the origin of lambda calculus and it's use in Python can be found <a href=\"https://realpython.com/python-lambda/\">here</a>.\n",
    "\n",
    "Essentially this function is going through all the items in the lists and comparing them to the items in the other list. \n",
    "\n",
    "The advantage of using functions is that we can call (or run) the function multiple times with different inputs - lists in this case - throughout a programme. Additionally, it saves us writing lines and lines of the same code within the same programme. \n",
    "\n",
    "Lets have a go at coding a new function. This will be our first function that we'll use in creating the calculator. \n",
    "We want something that takes the user input and creates a category for it. \n"
   ]
  },
  {
   "cell_type": "code",
   "execution_count": null,
   "metadata": {
    "jupyter": {
     "source_hidden": true
    }
   },
   "outputs": [],
   "source": [
    "# The function we're going to use most often throughout this calculator is one that locates the CO2 value \n",
    "# that we want from either a dictionary or a dataframe (these are defined a bit later but essentially they are\n",
    "# both methods of storing information in Python.\n",
    "\n",
    "def find_data(i,j):\n",
    "    if i in j:\n",
    "        data = j[i]\n",
    "        return data\n",
    "    else:\n",
    "        print(\"/nSorry, that does not exist. Please rerun cell and enter item from list provided\")\n",
    "        \n",
    "def create_dataframe(i):\n",
    "    df = pd.read_csv(i)\n",
    "    print(df.head())\n"
   ]
  },
  {
   "cell_type": "markdown",
   "metadata": {},
   "source": [
    "<h2><center><span style='color:darkolivegreen'>Data</span></center></h2>\n",
    "\n",
    "To start creating a carbon footprint calculator, we need trustworthy and recent data. In this case, we'll be using data from the UK Government's Department of Business, Energy and Industrial Strategy. Something that usually takes place is data cleaning. Let's try it with a dataset concerning transport:"
   ]
  },
  {
   "cell_type": "code",
   "execution_count": null,
   "metadata": {
    "jupyter": {
     "source_hidden": true
    }
   },
   "outputs": [],
   "source": [
    "# First we want to read our file\n",
    "\n",
    "food_co2_dict = {\"High meat\":7.19, \"Medium meat\":5.63, \"Low meat\":4.67,\n",
    "                 \"Fish\":3.91, \"Vegetarian\":3.81, \"Vegan\":2.89}\n",
    "                        \n",
    "\n",
    "    \n",
    "user_input = input(\"Enter diet (Choose from: High meat, Medium meat, Low meat, Fish, Vegetarian, or Vegan): \")\n",
    "\n",
    "if user_input in food_co2_dict:\n",
    "    CO2_value = food_co2_dict[user_input]\n",
    "    print(\"\\n\", user_input, \"=\", CO2_value*365,\"kgCO2e per year\")\n",
    "else:\n",
    "    print(\"\\nSorry, that does not exist. Please rerun cell and enter diet type from list provided\")\n",
    "    "
   ]
  },
  {
   "cell_type": "markdown",
   "metadata": {},
   "source": [
    "<h5><span style='color:olivedrab'> Dictionaries </span></h5>\n",
    "\n",
    "We're going to start with food. To find the "
   ]
  },
  {
   "cell_type": "code",
   "execution_count": 89,
   "metadata": {},
   "outputs": [
    {
     "name": "stdout",
     "output_type": "stream",
     "text": [
      "Please enter most frequently used transport (Bus, Car (size), Car (types), Motorbike, Taxi or Train): Bus\n",
      "   ID  Year Activity                    Type         Unit  kg CO2e   kg CO2  \\\n",
      "0   1  2020      Bus  Local bus (not London)  passengerkm  0.11950  0.11848   \n",
      "1   2  2020      Bus        Local London bus  passengerkm  0.07856  0.07808   \n",
      "2   3  2020      Bus       Average local bus  passengerkm  0.10312  0.10231   \n",
      "3   4  2020      Bus                   Coach  passengerkm  0.02732  0.02679   \n",
      "\n",
      "    kg CH4   kg N2O  \n",
      "0  0.00002  0.00100  \n",
      "1  0.00001  0.00047  \n",
      "2  0.00002  0.00079  \n",
      "3  0.00001  0.00052  \n"
     ]
    }
   ],
   "source": [
    "import pandas as pd\n",
    "\n",
    "\n",
    "transport_data_dict = {\"Bus\": \"Bus.csv\", \"Car (size)\": \"Car_Size.csv\", \"Car (types)\": \"Car_Type.csv\", \n",
    "                       \"Motorbike\": \"Motorbike.csv\", \"Taxi\": \"Taxi.csv\", \"Train\" : \"Train.csv\"}\n",
    "\n",
    "transport_input = input(\"Please enter most frequently used transport (Bus, Car (size), Car (types), Motorbike, Taxi or Train): \")\n",
    "\n",
    "if transport_input in transport_data_dict:\n",
    "    csv_file = transport_data_dict[transport_input]\n",
    "else:\n",
    "    print(\"\\nSorry, that does not exist. Please rerun cell and enter transport type from list provided\")\n",
    "\n",
    "#creating data frame\n",
    "\n",
    "df = pd.read_csv(csv_file)\n",
    "print(df.head())"
   ]
  },
  {
   "cell_type": "markdown",
   "metadata": {},
   "source": [
    "As you can see, the cell above outputs the first 5 rows of the csv files that contain the data we need to calculate the CO2 emissions from your most frequent transport. Now we need to select the correct row in order to find out the exact yearly kgCO2e for whichever mode of transport you use."
   ]
  },
  {
   "cell_type": "code",
   "execution_count": 78,
   "metadata": {},
   "outputs": [
    {
     "name": "stdout",
     "output_type": "stream",
     "text": [
      "                               Fuel         Type  kg CO2e   kg CO2    kg CH4  \\\n",
      "0                            Diesel    Small car  0.13721  0.13537  0.000003   \n",
      "1                            Diesel   Medium car  0.16637  0.16453  0.000003   \n",
      "2                            Diesel    Large car  0.20419  0.20235  0.000003   \n",
      "3                            Diesel  Average car  0.16844  0.16660  0.000003   \n",
      "4                            Petrol    Small car  0.14836  0.14769  0.000310   \n",
      "5                            Petrol   Medium car  0.18659  0.18592  0.000310   \n",
      "6                            Petrol    Large car  0.27807  0.27740  0.000310   \n",
      "7                            Petrol  Average car  0.17430  0.17363  0.000310   \n",
      "8                            Hybrid    Small car  0.10275  0.10168  0.000200   \n",
      "9                            Hybrid   Medium car  0.10698  0.10567  0.000150   \n",
      "10                           Hybrid    Large car  0.14480  0.14326  0.000080   \n",
      "11                           Hybrid  Average car  0.11558  0.11433  0.000160   \n",
      "12                              CNG    Small car      NaN      NaN       NaN   \n",
      "13                              CNG   Medium car  0.15935  0.15738  0.001550   \n",
      "14                              CNG    Large car  0.23680  0.23483  0.001550   \n",
      "15                              CNG  Average car  0.17621  0.17424  0.001550   \n",
      "16                              LPG    Small car      NaN      NaN       NaN   \n",
      "17                              LPG   Medium car  0.17847  0.17800  0.000050   \n",
      "18                              LPG    Large car  0.26606  0.26559  0.000050   \n",
      "19                              LPG  Average car  0.19754  0.19707  0.000050   \n",
      "20                          Unknown    Small car  0.14449  0.14342  0.000200   \n",
      "21                          Unknown   Medium car  0.17571  0.17440  0.000150   \n",
      "22                          Unknown    Large car  0.22321  0.22167  0.000080   \n",
      "23                          Unknown  Average car  0.17140  0.17015  0.000160   \n",
      "24  Plug-in Hybrid Electric Vehicle    Small car  0.05860  0.05814  0.000180   \n",
      "25  Plug-in Hybrid Electric Vehicle   Medium car  0.09251  0.09189  0.000280   \n",
      "26  Plug-in Hybrid Electric Vehicle    Large car  0.10515  0.10444  0.000320   \n",
      "27  Plug-in Hybrid Electric Vehicle  Average car  0.09712  0.09646  0.000300   \n",
      "28         Battery Electric Vehicle    Small car  0.04637  0.04595  0.000140   \n",
      "29         Battery Electric Vehicle   Medium car  0.05563  0.05513  0.000170   \n",
      "30         Battery Electric Vehicle    Large car  0.06646  0.06587  0.000200   \n",
      "31         Battery Electric Vehicle  Average car  0.05728  0.05676  0.000180   \n",
      "\n",
      "     kg N2O  \n",
      "0   0.00184  \n",
      "1   0.00184  \n",
      "2   0.00184  \n",
      "3   0.00184  \n",
      "4   0.00036  \n",
      "5   0.00036  \n",
      "6   0.00036  \n",
      "7   0.00036  \n",
      "8   0.00087  \n",
      "9   0.00116  \n",
      "10  0.00146  \n",
      "11  0.00109  \n",
      "12      NaN  \n",
      "13  0.00042  \n",
      "14  0.00042  \n",
      "15  0.00042  \n",
      "16      NaN  \n",
      "17  0.00042  \n",
      "18  0.00042  \n",
      "19  0.00042  \n",
      "20  0.00087  \n",
      "21  0.00116  \n",
      "22  0.00146  \n",
      "23  0.00109  \n",
      "24  0.00028  \n",
      "25  0.00034  \n",
      "26  0.00039  \n",
      "27  0.00036  \n",
      "28  0.00028  \n",
      "29  0.00033  \n",
      "30  0.00039  \n",
      "31  0.00034  \n"
     ]
    }
   ],
   "source": [
    "reduced_df = df.loc[:, ['Fuel','Type', 'kg CO2e', 'kg CO2', 'kg CH4', 'kg N2O']]\n",
    "print(reduced_df)"
   ]
  },
  {
   "cell_type": "code",
   "execution_count": null,
   "metadata": {},
   "outputs": [],
   "source": [
    "useful_data_df = # create a dataframe that just contains the useful data that we want: Fuel, Type and kg CO2e. \n",
    "                # Follow the same method as above.\n",
    "\n",
    "\n"
   ]
  },
  {
   "cell_type": "markdown",
   "metadata": {},
   "source": [
    "<h5><span style='color:red'> Careful! </span></h5> This next function relies on you creating the useful_data_df above."
   ]
  },
  {
   "cell_type": "code",
   "execution_count": 84,
   "metadata": {},
   "outputs": [
    {
     "name": "stdout",
     "output_type": "stream",
     "text": [
      "Please enter Type: Medium car\n",
      "                               Fuel        Type  kg CO2e   kg CO2    kg CH4  \\\n",
      "1                            Diesel  Medium car  0.16637  0.16453  0.000003   \n",
      "5                            Petrol  Medium car  0.18659  0.18592  0.000310   \n",
      "9                            Hybrid  Medium car  0.10698  0.10567  0.000150   \n",
      "13                              CNG  Medium car  0.15935  0.15738  0.001550   \n",
      "17                              LPG  Medium car  0.17847  0.17800  0.000050   \n",
      "21                          Unknown  Medium car  0.17571  0.17440  0.000150   \n",
      "25  Plug-in Hybrid Electric Vehicle  Medium car  0.09251  0.09189  0.000280   \n",
      "29         Battery Electric Vehicle  Medium car  0.05563  0.05513  0.000170   \n",
      "\n",
      "     kg N2O  \n",
      "1   0.00184  \n",
      "5   0.00036  \n",
      "9   0.00116  \n",
      "13  0.00042  \n",
      "17  0.00042  \n",
      "21  0.00116  \n",
      "25  0.00034  \n",
      "29  0.00033  \n"
     ]
    }
   ],
   "source": [
    "user_type_input = input(\"Please enter Type: \")\n",
    "type_df = useful_data_df[useful_data_df['Type'] == user_type_input]\n",
    "print(type_df)"
   ]
  },
  {
   "cell_type": "code",
   "execution_count": 86,
   "metadata": {},
   "outputs": [
    {
     "name": "stdout",
     "output_type": "stream",
     "text": [
      "Please enter Fuel: Petrol\n",
      "     Fuel        Type  kg CO2e   kg CO2   kg CH4   kg N2O\n",
      "5  Petrol  Medium car  0.18659  0.18592  0.00031  0.00036\n"
     ]
    }
   ],
   "source": [
    "user_fuel_input = input(\"Please enter Fuel: \")\n",
    "fuel_df = type_df[type_df['Fuel'] == user_fuel_input]\n",
    "print(fuel_df)"
   ]
  },
  {
   "cell_type": "code",
   "execution_count": 88,
   "metadata": {},
   "outputs": [
    {
     "name": "stdout",
     "output_type": "stream",
     "text": [
      "0.18659\n"
     ]
    }
   ],
   "source": [
    "CO2_per_km = fuel_df['kg CO2e'].values[0]\n",
    "print(CO2_per_km)"
   ]
  },
  {
   "cell_type": "markdown",
   "metadata": {},
   "source": [
    "The section above was specifically for car travel. The reason we dealt with this on its own is because there are two variables. We needed to narrow down the data twice in order to find out our CO2 per km. \n",
    "For the other modes of transport, we can write a function to help speed things along a bit. "
   ]
  },
  {
   "cell_type": "code",
   "execution_count": null,
   "metadata": {},
   "outputs": [],
   "source": [
    "Reduce_Type function \n",
    "\n",
    "transport_data_dict = {\"Bus\": \"Bus.csv\", \"Car (size)\": \"Car_Size.csv\", \"Car (types)\": \"Car_Type.csv\", \n",
    "                       \"Motorbike\": \"Motorbike.csv\", \"Taxi\": \"Taxi.csv\", \"Train\" : \"Train.csv\"}\n",
    "\n",
    "transport_input = input(\"Please enter most frequently used transport (Bus, Car (size), Car (types), Motorbike, Taxi or Train): \")\n",
    "\n",
    "if transport_input in transport_data_dict:\n",
    "    csv_file = transport_data_dict[transport_input]\n",
    "else:\n",
    "    print(\"\\nSorry, that does not exist. Please rerun cell and enter transport type from list provided\")\n",
    "\n",
    "#creating data frame\n",
    "\n",
    "df = pd.read_csv(csv_file)\n",
    "print(df.head())\n"
   ]
  },
  {
   "cell_type": "code",
   "execution_count": 92,
   "metadata": {},
   "outputs": [
    {
     "name": "stdout",
     "output_type": "stream",
     "text": [
      "Please enter most frequently used transport (Bus, Car (size), Car (types), Motorbike, Taxi or Train): Bus\n",
      "   ID  Year Activity                    Type         Unit  kg CO2e   kg CO2  \\\n",
      "0   1  2020      Bus  Local bus (not London)  passengerkm  0.11950  0.11848   \n",
      "1   2  2020      Bus        Local London bus  passengerkm  0.07856  0.07808   \n",
      "2   3  2020      Bus       Average local bus  passengerkm  0.10312  0.10231   \n",
      "3   4  2020      Bus                   Coach  passengerkm  0.02732  0.02679   \n",
      "\n",
      "    kg CH4   kg N2O  \n",
      "0  0.00002  0.00100  \n",
      "1  0.00001  0.00047  \n",
      "2  0.00002  0.00079  \n",
      "3  0.00001  0.00052  \n"
     ]
    }
   ],
   "source": [
    "def find_csv(i,j):\n",
    "    if i in j:\n",
    "        csv_file = j[i]\n",
    "        return csv_file\n",
    "    else:\n",
    "        print(\"/nSorry, that does not exist. Please rerun cell and enter item from list provided\")\n",
    "        \n",
    "def create_dataframe(i):\n",
    "    df = pd.read_csv(i)\n",
    "    print(df.head())\n",
    "    \n",
    "transport_data_dict = {\"Bus\": \"Bus.csv\", \"Car (size)\": \"Car_Size.csv\", \"Car (types)\": \"Car_Type.csv\", \n",
    "                       \"Motorbike\": \"Motorbike.csv\", \"Taxi\": \"Taxi.csv\", \"Train\" : \"Train.csv\"}\n",
    "\n",
    "transport_input = input(\"Please enter most frequently used transport (Bus, Car (size), Car (types), Motorbike, Taxi or Train): \")\n",
    "    \n",
    "\n",
    "create_dataframe(find_csv(transport_input, transport_data_dict))"
   ]
  },
  {
   "cell_type": "markdown",
   "metadata": {},
   "source": [
    "<h2><center><span style='color:darkolivegreen'>Transport</span></center></h2>\n",
    "\n",
    "Now we've trialled some functions, let's write a programme to calculate the carbon footprint of transport used. REMEMBER: We want this to be applicable to everyone, so have to build something that can be repeatable with different inputs. \n",
    "\n",
    "\n",
    "<h5><span style='color:olivedrab'> User Input </span></h5>\n",
    "First off, write a function that takes a user input and converts it into a list (just like we did right at the beginning of this project). "
   ]
  },
  {
   "cell_type": "code",
   "execution_count": null,
   "metadata": {
    "jupyter": {
     "source_hidden": true
    }
   },
   "outputs": [],
   "source": [
    "#Write your function here, we've started you off: \n",
    "\"Remember, we want this to be repeatable. Be careful with indents!\"\n",
    "\n",
    "def user_input(input1):\n",
    "    \n",
    "    "
   ]
  },
  {
   "cell_type": "code",
   "execution_count": null,
   "metadata": {
    "jupyter": {
     "source_hidden": true
    }
   },
   "outputs": [],
   "source": [
    "{\n",
    "    \"tags\": [\n",
    "        \"hide-cell\",\n",
    "    ]\n",
    "}"
   ]
  },
  {
   "cell_type": "markdown",
   "metadata": {},
   "source": []
  },
  {
   "cell_type": "code",
   "execution_count": null,
   "metadata": {
    "jupyter": {
     "source_hidden": true
    }
   },
   "outputs": [],
   "source": []
  }
 ],
 "metadata": {
  "kernelspec": {
   "display_name": "Python 3",
   "language": "python",
   "name": "python3"
  },
  "language_info": {
   "codemirror_mode": {
    "name": "ipython",
    "version": 3
   },
   "file_extension": ".py",
   "mimetype": "text/x-python",
   "name": "python",
   "nbconvert_exporter": "python",
   "pygments_lexer": "ipython3",
   "version": "3.8.5"
  }
 },
 "nbformat": 4,
 "nbformat_minor": 4
}

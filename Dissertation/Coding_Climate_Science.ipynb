{
 "cells": [
  {
   "cell_type": "markdown",
   "metadata": {},
   "source": [
    "<center> <img src=\"Logo.png\"/></center>\n",
    "\n",
    "\n",
    "This project aims to teach you how to build your own carbon footprint calculator. \n",
    "Throught the course of this notebook, you'll learn the necessary Python skills to create and run a carbon footprint calculator based on your own consumption data. Coding can be tough and frustrating at times, but there are lots of free resources online to assist if needed. We have included a cheat sheet in the documentation for this course that should answer most questions but a quick search of <a href=\"https://stackoverflow.com\">Stack Overflow</a> usually provides good answers too.\n",
    "\n",
    "There is also a version of this notebook that is complete in the same folder that you accessed this one and includes the  answers to the cells that we have left free for your own code. Use this complete version if you get really stuck.\n",
    "\n",
    "<h2><center><span style='color:darkolivegreen'>Introduction to coding with Python (and the climate science to go with it) </span></center></h2>\n",
    "\n",
    "To begin coding our calculator the first things we need to think about are all the activities a person does that produce carbon emissions. Can you name some of the things that produce carbon emissions and print them in the cell below? \n",
    "\n",
    "***Hint:*** *You can run the code titled \"Carbon Emission Producing Activities\" below for the categories that we're going to use throughout this notebook*"
   ]
  },
  {
   "cell_type": "code",
   "execution_count": null,
   "metadata": {
    "scrolled": true
   },
   "outputs": [],
   "source": [
    "list1 = [] # Here we are creating an empty list\n",
    "list1 = [item for item in input(\"Enter carbon producing activities : \").split()] \n",
    "\n",
    "# The line above fills the list with the user input. Split ensures the words entered are seperate items in the list. \n",
    "# BE CAREFUL, don't add commas in your input, seperate words with a space. \n",
    "\n",
    "print(list1) # This prints our list "
   ]
  },
  {
   "cell_type": "code",
   "execution_count": null,
   "metadata": {},
   "outputs": [],
   "source": [
    "# Carbon Emission Producing Activities\n",
    "list2 = [] # create empty list\n",
    "list2 = \"Transport\", \"Food\", \"Energy\", \"Services\", \"Purchases\", \"Waste\" # items to add to list\n",
    "print(list2) # print list"
   ]
  },
  {
   "cell_type": "markdown",
   "metadata": {},
   "source": [
    "Obviously we can select whatever variables we like for the carbon footprint calculator, and we can choose how detailed we want to go. In this case, the category of \"Transport\" could be split into: flights, car journeys, train trips etc. The same is the case for \"Food\", the emissions for which depend on different diets. In the case of the UK's services emissions, these are public services (hospitals, education settings etc.) that we all use and benefit from, therefore contributing to the output of those emissions."
   ]
  },
  {
   "cell_type": "markdown",
   "metadata": {},
   "source": [
    "<center><span style='color:darkslateblue'><b> Your turn!</b> Now print your own list of subcatgories in the cells below to practice.</span></center>"
   ]
  },
  {
   "cell_type": "code",
   "execution_count": null,
   "metadata": {},
   "outputs": [],
   "source": [
    "#Transport list\n",
    "\n",
    "transport_list = []        # We have started you off here with an empty list. Fill it with items!\n",
    "\n",
    "\n",
    "\n",
    "\n",
    "print(transport_list)      # This will print your list when it's filled with things."
   ]
  },
  {
   "cell_type": "code",
   "execution_count": null,
   "metadata": {},
   "outputs": [],
   "source": [
    "#Energy list\n",
    "\n",
    "# We've left this cell blank for you to fill with your own code. Think about the things that would influence \n",
    "# the energy emissions of an individual. Energy type is the obvious one, but what else effects how much energy\n",
    "# a person uses?"
   ]
  },
  {
   "cell_type": "markdown",
   "metadata": {},
   "source": [
    "<span style='color:goldenrod'><b>Congratulations!</b> You've just written your first few programmes!</span>"
   ]
  },
  {
   "cell_type": "markdown",
   "metadata": {},
   "source": [
    "We have now seen several \"functions\" that are built into our programming language, Python. A function is just an operation, or a process. The <a href= \"https://www.w3schools.com/python/ref_func_print.asp\">print( )</a> function prints things, for example, and <a href=\"https://www.w3schools.com/python/ref_string_split.asp\">split( )</a> adds commas so we can turn our user input into a list. You're going to write some of your own functions throughout this notebook. The advantage of writing our own functions is that they can be repeated throughout a programme or be used with lots of different inputs, thereby reducing the amount of code you need to write. \n",
    "<h3><i><span style='color:olivedrab'>Other useful things to know</span></i></h3>\n",
    "\n",
    "<a href=\"https://www.w3schools.com/python/python_comments.asp\"> Comments</a> It is good practice to add comments to your programmes and functions so someone can quickly see what is going on. Throught this notebook we have <b>over-</b>commented (explaining exactly what bit is doing what). This is to help with the learning process. A comment is just a statement or sentence with a # in front of it. Python ignores any lines with a # at the front. eg:\n",
    "\n",
    "    # this is what a comment looks like\n",
    "\n",
    "<a href= \"https://www.w3schools.com/python/python_variables.asp\">Variables</a> = a variable is essentially a label assigned to a value, set, dictionary or list (we'll learn about these later. It means you can label something and then use that label when performing an operation \n",
    "  eg. \n",
    "  \n",
    "    variable = 3\n",
    "\n",
    "    variable + 3 = 6\n",
    "    \n",
    "<a href=\"https://www.w3schools.com/python/python_syntax.asp\">Syntax</a> - Indentation is pretty important in Python. Anything in a loop, function or conditional statement (basically anything following a colon (:)) should be indented. You'll see this in action throughout the notebook and you'll get a \"syntax error\" if you've missed one. \n",
    "\n",
    "Data types in Python (more <a href=\"https://www.w3schools.com/python/python_datatypes.asp\">here</a>): \n",
    "\n",
    "    int( ) = integer (whole numbers)\n",
    "    string ( ) = words, letters, or sentences\n",
    "    float ( ) = decimal numbers \n",
    "\n",
    "Simple mathematical operators are what you would expect (more <a href=\"https://www.w3schools.com/python/python_operators.asp\">here</a>): \n",
    "\n",
    "    (+) = add\n",
    "    (-) = minus\n",
    "    (*) = multiply\n",
    "    (/) = divide\n",
    "    (==) = equal to\n"
   ]
  },
  {
   "cell_type": "markdown",
   "metadata": {},
   "source": [
    "<h2><center><span style='color:darkolivegreen'>Food</span></center></h2>\n",
    "\n",
    "For our first calculation that will contribute to your final footprint value we're going to introduce <a href=\"https://www.w3schools.com/python/python_dictionaries.asp\">dictionaries</a>, some <a href=\"https://www.w3schools.com/python/python_conditions.asp\" >Python conditions (if, else, in)</a> and the <a href=\"https://www.w3schools.com/python/ref_func_round.asp\">round( )</a> function. We've linked the relevant documentation with examples for how these work but we've also over-commented so you can see exactly what is going on in the programme that we've set out below.\n",
    "\n",
    "Food is one of the easiest things to calculate as we have some values from a recent academic paper that average what a certain diet contributes in terms of CO2 emissions and there is just one variable - what sort of diet you have. The paper that we have got our values from can be viewed <a href=\"https://link.springer.com/article/10.1007/s10584-014-1169-1#\">here</a>.\n",
    "\n",
    "The diets mentioned below should cover most bases, go with the one that fits best. \n",
    "For reference, high medium and low meat diets are as follows:\n",
    "* High meat diet = eating more than 100g of meat a day. 1 burger = approx. 120g\n",
    "* Medium meat diet = eating 50-99g of meat a day. 1 chicken breast = approx. 85g\n",
    "* Low meat diet = eating less than 49g of meat a day. 1 sausage = approx. 45g\n"
   ]
  },
  {
   "cell_type": "code",
   "execution_count": null,
   "metadata": {
    "jupyter": {
     "source_hidden": true
    }
   },
   "outputs": [],
   "source": [
    "# This is a dictionary. Each item in the dictionary has a label and a value attributed to that label. \n",
    "\n",
    "food_co2_dict = {\"High meat\":7.19, \"Medium meat\":5.63, \"Low meat\":4.67,\n",
    "                 \"Fish\":3.91, \"Vegetarian\":3.81, \"Vegan\":2.89}           \n",
    "                        \n",
    "    \n",
    "user_input = input(\"Enter diet (Choose from: High meat, Medium meat, Low meat, Fish, Vegetarian, or Vegan): \")\n",
    "\n",
    "if user_input in food_co2_dict:                  # if our user inputted diet is in the dictionary then\n",
    "    CO2_value = food_co2_dict[user_input]        # locate the correspoding CO2 value for that diet\n",
    "    food_CO2_total = round((CO2_value*365), 3)   # calculate annual CO2 value and round to the 3 decimel places\n",
    "    print(\"\\n\", user_input, \"=\", food_CO2_total,\"kg CO2e per year\") # print the annual CO2 value for diet\n",
    "else:\n",
    "    # if user inputs something that is not in the dictionary, print an error message.\n",
    "    # this is not particularly necessar for the funtioning of the programme but guides you, the user, into retrying\n",
    "    # with running the cell and typing a different string.\n",
    "    print(\"\\nSorry, that does not exist. Please rerun cell and enter diet type from list provided\")\n",
    "    \n",
    "    "
   ]
  },
  {
   "cell_type": "markdown",
   "metadata": {},
   "source": [
    "<h5><span style='color:darkgoldenrod'>Note!: Be accurate</span></h5> As you might be able to tell by now, Python (and any coding language for that matter) is very literal. You have to get all inputs, functions, and variables exactly right or it won't work. Take care with capital letters, spellings, ensuring the type of information you are giving a function (or in Python-speak: the arguments you pass to a function) is correct. Floats and integers can't be added together, for example. The type of data must be the same for Python to process it. With these two, a simple <a href= \"https://www.w3schools.com/python/python_datatypes.asp\">float( ) or int( )</a> round the values will sort it out. \n",
    "\n",
    "Whilst we could write a function that ensures user inputs are usable in our functions (without having to go back and adjust the way we have spelt Vegetarian, for example), an important part of learning Python is going back to check on errors, adjusting our code and improving efficiency. As a result, we have not included any helper functions *but* we have linked useful resources for each new concept we introduce. "
   ]
  },
  {
   "cell_type": "markdown",
   "metadata": {},
   "source": [
    "<h2><center><span style='color:darkolivegreen'>Transport</span></center></h2>\n",
    "\n",
    "<h3><i><span style='color:olivedrab'>We'll start with an example...</span></i></h3>\n",
    "Next up is transport. First we're going to run through an example where we want you to select \"Car\" as your usual mode of transport. You'll have an opportunity to enter your regular mode of transport later on when we introduce coding functions. \n",
    "\n",
    "The data for these calculations is from the Department for Business, Energy and Industrial Strategy (BEIS), a UK Government department. They produce carbon emissions factors yearly so provide a solid, accurate dataset for us to work from. You can view the original dataset <a href=\"https://www.gov.uk/government/publications/greenhouse-gas-reporting-conversion-factors-2020\">here</a>.\n",
    "\n",
    "Whilst you would normally work directly from the raw data file, we've cheated and seperated the relevant data into csv's already so you don't have to clean the data yourself. Whilst data cleaning is a valuable skill, it is a bit past an introduction to Python, so we've helped you out a bit. "
   ]
  },
  {
   "cell_type": "markdown",
   "metadata": {},
   "source": [
    "<h5><span style= 'color:darkgoldenrod'>Note! Think about what you want out of a function</span></h5> As you can see, this cell is much more blank than the food programme. That's becuase <b><span style='color:darkslateblue'>it's your turn!</span></b> In this cell we want to:\n",
    "\n",
    "* take a user input for mode of transport\n",
    "* compare that user input to the csv's that we have\n",
    "* pick the correct csv that relates to the mode of transport selected\n",
    "* construct a table (or dataframe in Python-speak) showing the data contained within the transport's csv\n",
    "* print that dataframe\n",
    "\n",
    "Other than creating a <a href=\"https://www.w3schools.com/python/pandas/pandas_dataframes.asp\">dataframe</a>, we have done all of the other activities in the Food section. Refer back to that to see what we can bring forward here. If you get stuck, remember there is a completed version of this workbook that you can refer to if needed!"
   ]
  },
  {
   "cell_type": "code",
   "execution_count": null,
   "metadata": {
    "scrolled": true
   },
   "outputs": [],
   "source": [
    "import pandas as pd  # pandas is a Python library that is for analysing data.\n",
    "\n",
    "\n",
    "transport_data_dict = {} # create dictionary that contains transport types and corresponding csv files\n",
    "\n",
    "transport_input = input() # write the string we want displayed with user input\n",
    "\n",
    "# write function for getting the csv file we want (car in this case)\n",
    "\n",
    "\n",
    "df = pd.read_csv(csv_file)  #create data frame using pd.read_csv()\n",
    "print(df.head())            # print first 5 rows of dataframe using .head()"
   ]
  },
  {
   "cell_type": "markdown",
   "metadata": {},
   "source": [
    "As you can see, a dataframe is just a table that we create using <a href=\"https://www.w3schools.com/python/pandas/default.asp\">pandas</a>, Python's data processing package. \n",
    "\n",
    "Now we need to select the right columns and rows in order to find out the exact yearly kg CO2e for a car. We're going to start by reducing our original dataframe to just the useful columns. We can do this using the .loc operator. This is explained in more detail <a href=\"https://www.w3schools.com/python/pandas/pandas_dataframes.asp\">here</a> but you can see it in action in the cell below.\n",
    "<h5><span style='color:darkgoldenrod'>Note! CO2 Equivalent</span></h5> kg CO2e = kg of CO2 equivalent, this includes other greenhouse gases that contibute to global warming. For example, releasing 1kg of Methane (CH4) into the atmosphere is approximately the same as releasing 84kg of CO2."
   ]
  },
  {
   "cell_type": "code",
   "execution_count": null,
   "metadata": {},
   "outputs": [],
   "source": [
    "reduced_df = df.loc[: ,['Fuel','Type', 'kg CO2e', 'kg CO2', 'kg CH4', 'kg N2O']] # include columns we want\n",
    "print(reduced_df) # print new reduced dataframe"
   ]
  },
  {
   "cell_type": "markdown",
   "metadata": {},
   "source": [
    "<center><span style='color:darkslateblue'><b> Your turn!</b> Now try and reduce further on your own so we only have Fuel, Type and kg CO2e as columns.</span></center> "
   ]
  },
  {
   "cell_type": "code",
   "execution_count": null,
   "metadata": {},
   "outputs": [],
   "source": [
    "#useful_data_df = # create a dataframe that just contains the useful data that we want: Fuel, Type and kg CO2e. \n",
    "                # Follow the same method as above.\n",
    "useful_data_df = \n",
    "print(useful_data_df)"
   ]
  },
  {
   "cell_type": "markdown",
   "metadata": {},
   "source": [
    "<h5><span style='color:red'> Careful! </span></h5> This next function relies on you creating the useful_data_df above. If you've done it successfully it should work fine, but if not, check the complete version of this notebook for some help.\n",
    "\n",
    "<h5><span style='color:darkgoldenrod'> Note! Car Example</span></h5> Remember this is just an example so you can pick whatever you like for type and fuel."
   ]
  },
  {
   "cell_type": "code",
   "execution_count": null,
   "metadata": {},
   "outputs": [],
   "source": [
    "user_type_input = input(\"Please enter Type: \")  # Take user input\n",
    "type_df = useful_data_df[useful_data_df['Type'] == user_type_input] # Find rows of data that match user input\n",
    "print(type_df) # Print dataframe"
   ]
  },
  {
   "cell_type": "markdown",
   "metadata": {},
   "source": [
    "<center><span style='color:darkslateblue'><b> Your turn!</b> Now try on your own to reduce the type_df to a fuel_df - the code will be very similar to what we used above.</span></center> "
   ]
  },
  {
   "cell_type": "code",
   "execution_count": null,
   "metadata": {},
   "outputs": [],
   "source": [
    "user_fuel_input =  # Take user input\n",
    "fuel_df =  #Find the rows of data that match user input\n",
    "print(fuel_df)  # Print dataframe"
   ]
  },
  {
   "cell_type": "markdown",
   "metadata": {},
   "source": [
    "Now you have a dataframe that consists of just 1 row, containing the type of car and fuel that you have selected. We can now calculate the CO2 value for that particular vehicle. See below for how we have done it, further documentation available <a href=\"https://www.w3schools.com/python/pandas/pandas_analyzing.asp\">here</a>."
   ]
  },
  {
   "cell_type": "code",
   "execution_count": null,
   "metadata": {},
   "outputs": [],
   "source": [
    "CO2_per_km = fuel_df['kg CO2e'].values[0] # locate kg CO2e for the car selected within the dataframe. values( ) \n",
    "# ensures we are selecting the 0 row (so we don't get any null returns)\n",
    "print(round(CO2_per_km, \"kg CO2e per km\", 2) # print the value of kg CO2e per km"
   ]
  },
  {
   "cell_type": "code",
   "execution_count": null,
   "metadata": {},
   "outputs": [],
   "source": [
    "#Sometimes we get floats that are too long. We can round them using round(float, decimal places)\n",
    "\n",
    "car_CO2 = round(CO2_per_km, 3)\n",
    "print(\"example car CO2 emissions =\", car_CO2, \"kg CO2e\")"
   ]
  },
  {
   "cell_type": "markdown",
   "metadata": {},
   "source": [
    "<h3><i><span style='color:olivedrab'>Final Transport Functions</span></i></h5>\n",
    "<h5><span style= 'color:darkslateblue'> Your turn!</span></h5> The section above was specifically for car travel as an example. Now we have seen exactly *how* we can narrow the data down, we can write some functions that do a lot of the work we have just done, in fewer steps. \n",
    "\n",
    "A few of the functions we need to use have been written out below but there are a few for you to do yourself. If you get stuck and your code doesn't run properly you can check the answer version of this workbook to see how we did it.\n",
    "\n",
    "To use a function, you need to \"call\" it. This involves writing the function name out and passing (inputting) arguments (information) through it. You can see it in action below but there's some further documentation <a href=\"https://www.w3schools.com/python/python_functions.asp\">here</a> too.\n",
    "\n",
    "<h5><span style= 'color:darkgoldenrod'> Note! Return</span></h5> <b>return</b> returns a value but doesn't print it. The programme stores the variable and can use it, you just can't see it. If in doubt about any functions, use print instead of return to see what it is outputting. "
   ]
  },
  {
   "cell_type": "code",
   "execution_count": null,
   "metadata": {},
   "outputs": [],
   "source": [
    "def find_csv(i,j):\n",
    "    if i in j:                  # function for finding the corresponding csv file based on user input\n",
    "        csv_file = j[i]         # locate variable in dictionary or list\n",
    "        return csv_file\n",
    "    else:\n",
    "        print(\"/nSorry, that does not exist. Please rerun cell and enter item from list provided\")\n",
    "        \n",
    "      \n",
    " # write a function to create a dataframe from csv file here\n",
    " \n",
    "    \n",
    "def fuel_and_type(i, j, k):   # reduce size of dataframe based on the type of car and fuel a user selects\n",
    "                              # Create sub dataframe based on Type\n",
    "                              # Create sub dataframe based on Fuel\n",
    "\n",
    "   \n",
    "def type_only(i, j): \n",
    "        type_df = i[i['Type'] == j]   # for all other Transport, reduce dataframe based on Type only\n",
    "        return(type_df)\n",
    "    \n",
    "def CO2_km(x):              # locate kg CO2e for the Transport selected within the dataframe\n",
    "                             # remember to append values[0] because there should be only one row to dataframe\n",
    "    return(CO2)\n",
    "    \n",
    "def category_list(i,j,k):          \n",
    "    for i in j:                     # We've written this function for you. \n",
    "        category = j[k].tolist()    # Here we are creating list from a column in csv\n",
    "    categories = []                      # create new blank list to append unique items in list to\n",
    "    \n",
    "    for i in category:\n",
    "        if i not in categories:                   \n",
    "            categories.append(i)         # append unique values to new list for user to select from\n",
    "    print(\"Please pick from these categories:\" + str(categories))\n",
    "    \n",
    "    \n",
    "\n",
    "transport_data_dict = {\"Bus\": \"Bus.csv\", \"Car\": \"Car_Size.csv\", \"Motorbike\": \"Motorbike.csv\", \"Taxi\": \"Taxi.csv\", \n",
    "                       \"Train\" : \"Train.csv\"}\n",
    "\n",
    "transport_input = input(\"Please enter most frequently used transport (Bus, Car, Motorbike, Taxi or Train): \")\n",
    "\n",
    "\n",
    "first_df = create_dataframe(find_csv(transport_input, transport_data_dict))\n",
    "\n",
    "category_list(transport_input, first_df, 'Type')\n",
    "\n",
    "user_type_input = input(\"Please enter Type: \")\n",
    "\n",
    "\n",
    "if transport_input == ('Car'):         \n",
    "    print (transport_input)\n",
    "    category_list(transport_input, first_df, 'Fuel')   # for Car get list of fuels for user to select from\n",
    "    fuel_input = input(\"Please enter Fuel type: \")     # take user input\n",
    "    emissions = fuel_and_type(first_df, user_type_input, fuel_input) # produce dataframe containing emissions\n",
    "    \n",
    "    print(emissions)\n",
    "\n",
    "else:\n",
    "    emissions = type_only(first_df, user_type_input)  # if not Car, produce dataframe containing emissions based on\n",
    "                                                      # type.\n",
    "    print(emissions)\n",
    "    \n",
    "\n",
    "CO2_per_km = round(CO2_km(emissions), 3)\n",
    "\n",
    "print(CO2_per_km, \"kg CO2e per km\")\n"
   ]
  },
  {
   "cell_type": "markdown",
   "metadata": {},
   "source": [
    "Now you've got CO2e per km, we need to calculate how many km you travel. We want the footprint to cover a year as that makes it easier to compare to national and international averages. First, write a programme for you to enter how many times you travel using your most frequent mode of transport a week. \n",
    "\n",
    "To find out how many miles a particular journey is by Train (or Underground) use this website: <a href=\"https://my.railmiles.me/mileage-engine/\">Rail Miles</a>. For car, bus, motorbike or taxi miles use Google maps: <a href=\"https://www.google.com/maps\">Google Maps</a>. In both cases, the default distance is given in miles. A quick function to convert miles to km is below for you."
   ]
  },
  {
   "cell_type": "code",
   "execution_count": null,
   "metadata": {},
   "outputs": [],
   "source": [
    "def miles_to_km(i):\n",
    "    km = (i * 1.609) # i multiplied by miles to km conversion factor\n",
    "    print(km, \"km\")\n",
    "\n",
    "miles = (input(\"Enter miles here:\" ))\n",
    "miles_to_km(float(miles))   # float used to convert possible integer from user input"
   ]
  },
  {
   "cell_type": "code",
   "execution_count": null,
   "metadata": {},
   "outputs": [],
   "source": [
    "def yearly_travel_distance(i, j):\n",
    "                                     #ensure both arguments are floats so this function works\n",
    "    return(total_distance)\n",
    "\n",
    "distance_per_journey = input(\"Please enter km per journey: \") #take user input for distance\n",
    "frequency = input(\"How many times do you make this journey a week?: \") #take user input for frequency\n",
    "\n",
    "km_per_year = round(yearly_travel_distance(distance_per_journey, frequency), 3) # rounding result to 3 dp\n",
    "print(km_per_year, \"km\")"
   ]
  },
  {
   "cell_type": "markdown",
   "metadata": {},
   "source": [
    "Now we need to multiply the travel distance by the kg CO2e to get the carbon footprint of your transport choices. This requires making variables out of the results from both sets of calculations. In the case of CO2, we called this CO2_per_km. Make sure you include a variable in the km per year calculation so you can use them below.\n",
    "\n",
    "<h5><span style='color:red'> Careful! </span></h5> Make sure the cells above that contain the variables you need are run first."
   ]
  },
  {
   "cell_type": "code",
   "execution_count": null,
   "metadata": {},
   "outputs": [],
   "source": [
    "transport_CO2_total = round((km_per_year * CO2_per_km),3)\n",
    "print(\"Final transport emissions =\", transport_CO2_total, \"kg C02 per year\")"
   ]
  },
  {
   "cell_type": "markdown",
   "metadata": {},
   "source": [
    "<h2><center><span style='color:darkolivegreen'>Flights</span></center></h2>"
   ]
  },
  {
   "cell_type": "markdown",
   "metadata": {},
   "source": [
    "Something else to add is flights. Flying (whether short haul or long haul) contribute significant amounts of CO2 emissions to a person's carbon footprint. We can reuse some of the functions that we wrote for the regular methods of transport above. Please see the list below for definitions: \n",
    "\n",
    "* Domestic = within the UK\n",
    "* Short-haul = up to 3700km per flight (typically to European countries)\n",
    "* Long-haul = more than 3700km per flight (typically to non-European countries)\n",
    "* International = flights between non-UK countries\n",
    "\n",
    "Classes per haulage: \n",
    "\n",
    "* Domestic = Average\n",
    "* Short-haul = Economy, Business, Average\n",
    "* Long-haul = Economy, Premium economy, Business, First class, Average\n",
    "* International = Economy, Premium economy, Business, First class, Average\n",
    "\n",
    "<h5><span style='color:darkgoldenrod'> Note! </span></h5> Class of flights makes a difference on the kg CO2e because seats are less tightly packed in business and first class, therefore means there are less passengers on the plane and the emissions are split between less people."
   ]
  },
  {
   "cell_type": "code",
   "execution_count": null,
   "metadata": {},
   "outputs": [],
   "source": [
    "flight_data = create_dataframe(\"flights.csv\") # using create_dataframe function from transport calulations above.\n",
    "\n",
    "# (this is a very similar function to type_and_fuel, used to determine CO2 for Cars above)\n",
    "\n",
    "def haul_and_class(i, j, k):   # reducing size of dataframe based on the haul and class of flight a user selects\n",
    "    haul_df = i[i['Haul'] == j]               # Create dataframe based on haul\n",
    "    class_df = haul_df[haul_df['Class'] == k]   # Create dataframe based on class\n",
    "    return(class_df)\n",
    "\n",
    "\n",
    "haul_input = input(\"What haulage were your flights? (Domestic, Short-haul, Long-haul, International): \")\n",
    "\n",
    "# Check the Classes per haulage list in the explainer above if your code isn't running properly!\n",
    "\n",
    "class_input = input(\"What class were your flights?: (Economy, Premium economy, Business, First class, Average)\" )\n",
    "\n",
    "flight_df = haul_and_class(flight_data, haul_input, class_input)\n",
    "\n",
    "CO2_flight_km = float(CO2_km(flight_df))\n",
    "\n",
    "print(CO2_flight_km, \"kg CO2e per km\")\n"
   ]
  },
  {
   "cell_type": "markdown",
   "metadata": {},
   "source": [
    "Similar to the regular transport above, we need to know how far you are flying every year. Use this website for calculating flight distance: <a href=\"https://www.airmilescalculator.com\">Air Miles Calculator</a>. This one does give distance in km so no need to use the miles_to_km function."
   ]
  },
  {
   "cell_type": "code",
   "execution_count": null,
   "metadata": {},
   "outputs": [],
   "source": [
    "# Calculate flight km, ensure flight km include the return flight!\n",
    "\n",
    "def yearly_travel_distance(i):\n",
    "    total_flight_distance = float(i) #ensure both arguments are floats \n",
    "    return(total_flight_distance)\n",
    "\n",
    "distance_flight = input(\"Please enter flight km: \") #take user input for distance\n",
    "\n",
    "flight_km_per_year = round(yearly_travel_distance(distance_flight), 3) # rounding result to 3 dp\n",
    "print(flight_km_per_year, \"km\")"
   ]
  },
  {
   "cell_type": "code",
   "execution_count": null,
   "metadata": {},
   "outputs": [],
   "source": [
    "flights_CO2_total = round((flight_km_per_year * CO2_flight_km), 3)\n",
    "print(\"Final flight emissions =\", flights_CO2_total, \"kg C02 per year\")"
   ]
  },
  {
   "cell_type": "markdown",
   "metadata": {
    "jupyter": {
     "source_hidden": true
    }
   },
   "source": [
    "<h2><center><span style='color:darkolivegreen'>Energy</span></center></h2>\n"
   ]
  },
  {
   "cell_type": "markdown",
   "metadata": {},
   "source": [
    "To calculate energy consumption, we need to think about how large your home is, how much energy you typically use and what sort of energy you use. Below is a table from Ofgem (the Office for Gas and Electricity Markets), showing the Typical Domestic Comsumption Values (TDCVs) in kWh/year for Gas and Electricity in the UK. This data is from 2020 and available <a href=\"https://www.ofgem.gov.uk/gas/retail-market/monitoring-data-and-statistics/typical-domestic-consumption-values\">here</a>. \n",
    "\n",
    "Whilst meter readings are the best way of measuring energy usage, sometimes this is difficult to obtain. As a result, we've chosen to use averages under the categories of Low, Medium and High energy use. \n",
    "Some brief explainations for each category of usage: \n",
    "* Low = Flat/apartment/2 bed house or student accomodation, at work 9-5pm, generally low energy usage\n",
    "* Medium = 3-4 bed house, 0.6+ FTE working pattern, generally medium energy usage\n",
    "* High = 5+ bed house, people at home all the time, generally high energy use\n"
   ]
  },
  {
   "cell_type": "markdown",
   "metadata": {},
   "source": [
    "<img src=\"Gas_and_elec.png\"/>"
   ]
  },
  {
   "cell_type": "markdown",
   "metadata": {},
   "source": [
    "<h5><span style='color:darkgoldenrod'> Note! Check your electricity supply</span></h5> Electricity Profile Class 1 is what most households use. Electricity Profile 2 refers to households that have an Economy 7 meter. Check which one your household uses."
   ]
  },
  {
   "cell_type": "markdown",
   "metadata": {},
   "source": [
    "We're going to start by creating a dataframe. We used dataframes whilst calculating transport emissions but that was directly from a csv. Here we're going to construct one ourselves from a list of lists. Then take an input to select the usage to return the Typical Domestic Consumption Values. We can then multiply this with the UK Government data on CO2 emissions per kWh of natural gas and electricity used. "
   ]
  },
  {
   "cell_type": "code",
   "execution_count": null,
   "metadata": {
    "scrolled": true
   },
   "outputs": [],
   "source": [
    "# First create a list of lists for each category (Gas, Electricity 1, Electricity 2)\n",
    "\n",
    "gas = [[\"Gas\", \"low\", 8000], \n",
    "       [\"Gas\", \"medium\", 12000], \n",
    "       [\"Gas\", \"high\", 17000]]\n",
    "\n",
    "elec1 = [[\"Elec1\", \"low\", 1800], \n",
    "         [\"Elec1\", \"medium\", 2900], \n",
    "         [\"Elec1\", \"high\", 4300]]\n",
    "\n",
    "elec2 = [[\"Elec2\",\"low\", 2400], \n",
    "         [\"Elec2\", \"medium\", 4200], \n",
    "         [\"Elec2\", \"high\", 7100]]  \n",
    "\n",
    "# Then create a dictionary to so we can compare user input to the lists.\n",
    "type_dict = {\"gas\":gas, \"elec1\":elec1, \"elec2\":elec2}\n",
    "\n",
    "\n",
    "def user_energy(i,j):\n",
    "    if i in j:                  # function for finding the corresponding list based on user input\n",
    "        energy_type = j[i]\n",
    "        return energy_type\n",
    "\n",
    "def create_energy_df(i):\n",
    "    energy_df = pd.DataFrame(i) # create dataframe \n",
    "    return energy_df\n",
    "\n",
    "def tdcv(i,j):\n",
    "    if i == \"low\":\n",
    "        kwh_per_year = j.iloc[0,2] # return low tdcv based on location in df\n",
    "    elif i == \"medium\":\n",
    "        kwh_per_year = j.loc[1,2] # return medium tdcv based on location in df\n",
    "    elif i == \"high\":\n",
    "        kwh_per_year = j.iloc[2,2] # return high tdcv based on location in df\n",
    "        \n",
    "    return(kwh_per_year)\n",
    "    \n",
    "\n",
    "\n",
    "df1 = create_energy_df(user_energy(\"gas\", type_dict))\n",
    "\n",
    "\n",
    "usage_1 = input(\"What is your gas usage like? (low, medium or high): \") # Take gas usuage\n",
    "\n",
    "gas_usage = tdcv(usage_1, df1) \n",
    "print(\"\\nGas usage =\", gas_usage, \"kWh per year\")\n",
    "\n",
    "user_energy_2 = input(\"Please input your electricity  type (elec1 or elec2 (for economy 7)): \") # Take elec usage\n",
    "\n",
    "df2 = create_energy_df(user_energy(user_energy_2, type_dict)) \n",
    "\n",
    "usage_2 = input(\"What is your usage like? (low, medium or high): \") # Take user usuage\n",
    "\n",
    "elec_usage = tdcv(usage_2, df2)\n",
    "print(\"\\nElectricity usage =\", elec_usage, \"kWh per year\")\n"
   ]
  },
  {
   "cell_type": "markdown",
   "metadata": {},
   "source": [
    "Now we have the annual kWh of energy used for both gas and electic, we need to calculate the kg CO2e produced for your energy consumption. We'll use the data from two csv files that have been extracted from the UK Government GHG Conversion Factors Data, available <a href = \"https://www.gov.uk/government/publications/greenhouse-gas-reporting-conversion-factors-2020\">here.</a> To compare your results with the csv files, we're going to use similar methods and functions to those used in the Transport section. "
   ]
  },
  {
   "cell_type": "code",
   "execution_count": null,
   "metadata": {},
   "outputs": [],
   "source": [
    "def find_csv(i,j):\n",
    "    if i in j:                  # function for finding the corresponding csv file based on user input\n",
    "        csv_file = j[i]\n",
    "        return csv_file\n",
    "    else:\n",
    "        print(\"/nSorry, that does not exist. Please rerun cell and enter item from list provided\")\n",
    "        \n",
    "def create_dataframe(i):        # creating a dataframe from csv file\n",
    "    df = pd.read_csv(i)\n",
    "    return(df)\n",
    "\n",
    "def CO2_kWh(i):              # locating kg CO2e for energy type within the dataframe\n",
    "    CO2 = i['kg CO2e'].values[0] # values[0] because there is only one row in dataframe \n",
    "    return(CO2)\n",
    "\n",
    "csv_files = {\"gas\":\"Natural_gas.csv\", \"elec\":\"Electricity.csv\"}\n",
    "\n",
    "# find gas emissions\n",
    "\n",
    "gas_emissions = create_dataframe(find_csv(\"gas\", csv_files))\n",
    "gas_CO2 = round(CO2_kWh(gas_emissions), 3)\n",
    "print(\"Gas emissions =\", gas_CO2, \"kg CO2e\")\n",
    "\n",
    "# find electric emissions\n",
    "\n",
    "elec_emissions = create_dataframe(find_csv(\"elec\", csv_files))\n",
    "elec_CO2 = round(CO2_kWh(elec_emissions), 3)\n",
    "print (\"Electricity emissions =\", elec_CO2, \"kg CO2e\")"
   ]
  },
  {
   "cell_type": "markdown",
   "metadata": {},
   "source": [
    "<h3><i><span style='color:olivedrab'> What about Green Energy tariffs?</span></i></h3>\n",
    "\n",
    "If your energy comes from a 100% renewable energy supplier like Ovo, Octopus Enegy, Bulb or others we can reduce the kg CO2e for energy by 25%. This statistic comes from <a href=\"https://www.carbonindependent.org/16.html\">Carbon Independent</a>, a website run by environmental scientists to help educate people on the carbon content of various activities - just like we're doing through this notebook. The reason your CO2 emissions are not reduced to nothing using 100% renewable energy (which is often what these companies propose) is becuase the electricity and gas used within your home is still \"normal\". There is no way to seperate off renewable energy and deliver it to those homes that choose to use a green supplier. \n",
    "\n",
    "<h5><span style='color:darkolivegreen'> So how does green energy work then?</span></h5>\n",
    "Green energy companies buy renewable energy from biogas produces, wind and solar farms, hydroelectric companies and others. Known as carbon trading, they buy as much energy as their customers use, thus offsetting the fossil fuel produced energy that is mixed in the mains energy mix that supplies homes. Renewable energy not emission free - far from it - transport of waste to biogas digesters uses diesel, the creation of high tech equipment for solar and wind farms and the building of dams also have substantial carbon footprints. Whilst much better alternatives to fossil fuel generated energy, there is still an associated carbon footprint. \n",
    "\n",
    "<h5><span style='color:darkgoldenrod'>Note! Green energy multiplier </span></h5>\n",
    "If you do use a renewable/green energy supplier, add in a mulitplier of 0.75 to the energy_CO2_total below. "
   ]
  },
  {
   "cell_type": "code",
   "execution_count": null,
   "metadata": {},
   "outputs": [],
   "source": [
    "# Now calculate total energy usage\n",
    "\n",
    "# Gas CO2 emissions\n",
    "total_gas_emissions = round((gas_usage * gas_CO2), 3)\n",
    "\n",
    "# Electricity CO2 emissions\n",
    "total_elec_emissions = round((elec_usage * elec_CO2), 3)\n",
    "\n",
    "household_energy_CO2 = (total_gas_emissions + total_elec_emissions)\n",
    "energy_CO2_total = (household_energy_CO2)/float(input(\"Enter number of people in household: \"))\n",
    "\n",
    "# if student accomodation, household = 1.\n",
    "\n",
    "print(\"\\nIndividual energy emissions =\", energy_CO2_total, \"kg CO2e per year\")"
   ]
  },
  {
   "cell_type": "markdown",
   "metadata": {},
   "source": [
    "<h2><center><span style='color:darkolivegreen'>Purchases</span></center></h2>"
   ]
  },
  {
   "cell_type": "markdown",
   "metadata": {},
   "source": [
    "Below we're going to incorporate how our purchases have an influence on carbon footprint. The data is not as readily available or as accurate as that used for food, transport, flights and energy above but does give a vague idea of how purchases of clothes, toiletries, appliances and furniture contribute to your carbon footprint.\n",
    "\n",
    "This data is from an Imperial College London <a href= \"https://assets.ctfassets.net/veghhywsw6ys/3WHp1BF1Oyui4PQ3yHnxnW/053801f6d379f940358d608965660278/Imperial_Report_on_Bulb_Carbon_Calculator_2020.pdf\">Report</a> that dissects the datasets behind the <a href=\"https://bulb.co.uk/carbon-calculator/\">Bulb carbon footprint calculator</a>. "
   ]
  },
  {
   "cell_type": "markdown",
   "metadata": {},
   "source": [
    "<img src=\"clothes.png\"/>"
   ]
  },
  {
   "cell_type": "markdown",
   "metadata": {},
   "source": [
    "<img src=\"appliances.png\"/>"
   ]
  },
  {
   "cell_type": "markdown",
   "metadata": {},
   "source": [
    "Up until now we haven't had to iterate through lists or perform multiple operations on the same dictionary. For calculating the CO2 emissions from your purchases we can take the data in the tables above and convert it into a dictionary, with each category (clothing, toiletries etc.) being the key and the corresponding kg CO2e per GBP being the value. We've included the values that are in bold above. "
   ]
  },
  {
   "cell_type": "code",
   "execution_count": null,
   "metadata": {},
   "outputs": [],
   "source": [
    "purchases_dict = {\"clothing\":0.33, \"toiletries\":0.6, \"electronics\":0.65, \"furniture\":0.5}\n",
    "\n",
    "new_purchases_dict = {key: int(value * 100) for key, value in purchases_dict.items()} \n",
    "# multiplying values by 100 to ensure they are iterable (can be passed through the for loop below). \n",
    "# reassigning new values to new dictionary. \n",
    "\n",
    "purchases_list = [] # create empty list so we can add all values together\n",
    "    \n",
    "def CO2_purchase():\n",
    "    for key, value in new_purchases_dict.items(): # for dictionary items in the dictionary\n",
    "        print(\"\\nPlease enter how much you spend a month on\", key,\": \") # ask user question for each category\n",
    "        spend = int(input(\"GBP per month: \")) # take user input for monthly spend on each category\n",
    "        CO2_purchase = round((int(spend*value)/100)*12, 3) # multiply spend and CO2, divide by 100 and times by 12\n",
    "        pass # this moves the for loop on to the next item in the dictionary\n",
    "    \n",
    "        print(key, \"=\", CO2_purchase, \"kg CO2e per year\") # print CO2 values for each category\n",
    "        purchases_list.append(CO2_purchase) # put CO2 values for each category in a list\n",
    "\n",
    "CO2_purchase() # call function\n",
    "\n",
    "    \n",
    "purchases_CO2_total = sum(purchases_list) # add list elements together for total CO2\n",
    "print(\"\\nPurchases emissions =\", purchases_CO2_total, \"kg CO2e per year\")\n"
   ]
  },
  {
   "cell_type": "markdown",
   "metadata": {},
   "source": [
    "This is the first time you have used a <a href=\"https://www.w3schools.com/python/python_for_loops.asp\">for loop</a>. In this case, the for loop means that the programme runs through every item in the dictionary and perform a set of mathematical operations on it, but it can be used in any scenario where you want to perform an operation over several items in a dictionary or list. "
   ]
  },
  {
   "cell_type": "markdown",
   "metadata": {},
   "source": [
    "<h2><center><span style='color:darkolivegreen'>Waste</span></center></h2>"
   ]
  },
  {
   "cell_type": "markdown",
   "metadata": {},
   "source": [
    "<h3><i><span style='color:olivedrab'>Food Waste</span></i></h3>\n",
    "\n",
    "Below is an excerpt from a recent report by WRAP, a global charity based in the UK focussed on sustainability around waste and resources. The full report is viewable <a href=\"https://wrap.org.uk/media-centre/press-releases/wasting-food-feeds-climate-change-food-waste-action-week-launches-help\">here</a>."
   ]
  },
  {
   "cell_type": "markdown",
   "metadata": {},
   "source": [
    "<img src=\"wrap_stats.png\"/>"
   ]
  },
  {
   "cell_type": "markdown",
   "metadata": {},
   "source": [
    "The bit that we're interested in is how many millions of tonnes of CO2 food waste is responsible for. Because the CO2 emissions of wasted food are quite complex to calculate (based on food miles, vegetables or meat wasted, individual waste etc.) we're going to use an average based on population of the UK (66.65 million)."
   ]
  },
  {
   "cell_type": "code",
   "execution_count": null,
   "metadata": {},
   "outputs": [],
   "source": [
    "# Try and work it out for yourself. Call the final variable \"food_waste_CO2_per_capita\"\n",
    "\n",
    "food_waste_CO2_tonnes = 14000000 # 14 million tonnes - we need to convert this to kg so our results are consistant \n",
    "food_waste_CO2 = int((food_waste_CO2_tonnes) * 1000) # ensure calculated value is an integer\n",
    "\n",
    "population = 66650000\n",
    "food_waste_CO2_per_capita = round(food_waste_CO2/population, 3) # per capita emissions calculation, rounded\n",
    "print(\"\\n Food waste emissions = \", food_waste_CO2_per_capita, \"kg CO2e\")\n"
   ]
  },
  {
   "cell_type": "markdown",
   "metadata": {},
   "source": [
    "<h3><i><span style='color:olivedrab'>Other Household Waste</span></i></h3>\n",
    "\n",
    "For other waste, we can use the BEIS statistics that we got our csv files from for transport. For ease, again, we've put the relevant data into it's own csv file called waste.csv. \n",
    "Below is an excerpt from the UK Department for Environment, Food and Rural Affairs (DEFRA) report on UK Waste Statistics. The full report is viewable <a href= \"https://assets.publishing.service.gov.uk/government/uploads/system/uploads/attachment_data/file/918270/UK_Statistics_on_Waste_statistical_notice_March_2020_accessible_FINAL_updated_size_12.pdf\">here</a>. Use the recycling rate statistic from 2018 to inform your calculations.\n",
    "\n",
    "<h5><span style='color:red'>Caution!</span></h5> Food waste is included in this dataset. We wanted you to think about food waste seperately above because it is one of the most avoidable emissions contributors. We don't need to include it in our final footprint calculation but it is an important one to recognise and take steps towards reducing."
   ]
  },
  {
   "cell_type": "markdown",
   "metadata": {},
   "source": [
    "<img src=\"recycling_rates.png\"/>"
   ]
  },
  {
   "cell_type": "markdown",
   "metadata": {},
   "source": [
    "From the same report, the following statistics are about the tonnes of household waste produced each year in the UK. \n",
    "\n",
    "\n",
    "<img src=\"waste.png\"/>"
   ]
  },
  {
   "cell_type": "markdown",
   "metadata": {},
   "source": [
    "We're going to use the 2016 Households data. \n",
    "\n",
    "<h5><span style='color:darkgoldenrod'> Note! Number of households</span></h5> There are <a href=\"https://www.ons.gov.uk/peoplepopulationandcommunity/birthsdeathsandmarriages/families/bulletins/familiesandhouseholds/2020\">27.8 million households in the UK</a>. Calculate CO2 per household and then divide by the number of people in your household.\n",
    "\n",
    "\n",
    "<center><span style='color:darkslateblue'><b>Your turn!</b> Write a function to return a value for the CO2 emissions related to your household waste. </span><center>"
   ]
  },
  {
   "cell_type": "code",
   "execution_count": null,
   "metadata": {},
   "outputs": [],
   "source": [
    "recycling_rate = 0.45 # recycling rate as multiplier\n",
    "uk_households = 27800000 # number of UK households\n",
    "all_waste = 27300000 # from table above: total tonnes of waste.\n",
    "\n",
    "waste_df = pd.read_csv(\"waste.csv\") # create dataframe using pandas read_csv()\n",
    "print(waste_df) #print dataframe\n",
    "\n",
    "waste_per_household = round(all_waste/uk_households, 3)\n",
    "\n",
    "tonnes_recycling = round(recycling_rate * waste_per_household, 3)\n",
    "\n",
    "tonnes_landfill = round(waste_per_household - tonnes_recycling, 3)\n",
    "\n",
    "\n",
    "def CO2_waste(i, j): # locating kg CO2e for energy type within the dataframe\n",
    "        CO2_per_tonne = j[i].values[0] # values[0] because there is only one row in dataframe \n",
    "        return(CO2_per_tonne)\n",
    "      \n",
    "\n",
    "landfill_CO2 = round(CO2_waste('Landfill', waste_df)*tonnes_landfill,3)\n",
    "print(\"Landfill = \", landfill_CO2, \"kg CO2e\")\n",
    "\n",
    "recycling_CO2 = round(CO2_waste('Open-loop', waste_df)*tonnes_recycling, 3)\n",
    "print(\"Recycling = \", recycling_CO2, \"kg CO2e\")\n",
    "\n",
    "\n",
    "waste_CO2_total = round((landfill_CO2 + recycling_CO2)/float(input(\"Enter number of people in household: \")),2)\n",
    "print(\"\\nWaste emissions = \", waste_CO2_total, \"kg CO2e\")"
   ]
  },
  {
   "cell_type": "markdown",
   "metadata": {},
   "source": [
    "<h2><center><span style='color:darkolivegreen'>Services</span></center></h2>\n",
    "\n",
    "We've nearly got all the values we need to calculate your carbon footprint, the one thing missing are the unaviodable emissions related to public services that you use. This is an easy one, we just need to assign a variable to a number as were using the data from <a href=\"https://sticerd.lse.ac.uk/dps/case/cp/casepaper152.pdf\">this report</a> from the London School of Economics, the relevant excerpt is here: \n",
    "\n",
    "<img src=\"services.png\"/>"
   ]
  },
  {
   "cell_type": "markdown",
   "metadata": {},
   "source": [
    "Add in the value to the variable below. \n",
    "\n",
    "<h5><span style='color:red'>Caution!</span></h5> Remember that the rest of our totals so far have been in kilograms, don't forget to convert from tonnes!"
   ]
  },
  {
   "cell_type": "code",
   "execution_count": null,
   "metadata": {},
   "outputs": [],
   "source": [
    "services_CO2_total = (1.8 * 1000)\n",
    "print(\"Services emissions = \", services_CO2_total, \"kg CO2e\")"
   ]
  },
  {
   "cell_type": "markdown",
   "metadata": {},
   "source": [
    "<h2><center><span style='color:darkolivegreen'>Final Calculation</span></center></h2>\n",
    "Now it's time to add all our variables together to give our final CO2 emissions result. \n",
    "<h5><span style='color:red'>Caution!</span></h5> You need to have run all the previous code modules in order to add everything together. For compariabilty to national averages, it's worth converting your answer into tonnes CO2e rather than kg CO2e. "
   ]
  },
  {
   "cell_type": "code",
   "execution_count": null,
   "metadata": {},
   "outputs": [],
   "source": [
    "def kg_to_tonnes(i):\n",
    "    tonnes = round(i/1000, 3)\n",
    "    return(tonnes)\n",
    "\n",
    "total_emissions = kg_to_tonnes((food_CO2_total + transport_CO2_total + flights_CO2_total + \n",
    "                   energy_CO2_total + purchases_CO2_total + waste_CO2_total + services_CO2_total))\n",
    "print(\"Your carbon footprint = \", total_emissions, \"tonnes CO2e\")"
   ]
  },
  {
   "cell_type": "markdown",
   "metadata": {},
   "source": [
    "<h2><center><span style='color:darkolivegreen'>Comparisons</span></center></h2>\n",
    "In comparing your carbon footprint to national and local averages, you'll be able to see how your consumption matches up to those around you. If your footprint is lower, that doesn't mean you have nothing to do! Continuing to make reductions in carbon intensive activities and behaviours is still the goal, regardless of how large or small your footprint is.\n",
    "\n",
    "Included in the folder for this tool is a csv file with local authority GHG emission averages. This csv has been created with the datasets found <a href=\"https://data.gov.uk/dataset/723c243d-2f1a-4d27-8b61-cdb93e5b10ff/emissions-of-carbon-dioxide-for-local-authority-areas\">here</a> and <a href=\"https://www.ons.gov.uk/peoplepopulationandcommunity/birthsdeathsandmarriages/families/adhocs/11620estimatednumberofhouseholdsinthelocalandunitaryauthoritiesofenglandandwalescouncilareasofscotlandandlocalgovernmentdistrictsofnorthernireland2012to2018\">here</a> from the Office of National Statistics. Write a function so you can enter your local authority area and return the average GHG emissions per individual. This will be similar to the transport functions we used earlier.\n",
    "\n",
    "There is a fair amount of debate as to what the average carbon footprint of a person in the UK is. For our purposes we're going to use the <a href = \"https://www.carbonindependent.org/23.html\">Carbon Independent figure</a> of 9.84 tonnes CO2e a year. "
   ]
  },
  {
   "cell_type": "code",
   "execution_count": null,
   "metadata": {},
   "outputs": [],
   "source": [
    "def LA_CO2(i, j):   # reducing size of dataframe based on the haul and class of flight a user selects\n",
    "    la_CO2_total = i[i['CO2'] == j]               # Create dataframe based on haul\n",
    "    return(la_CO2_total)\n",
    "    \n",
    "la_df = create_dataframe(\"local_authority_co2.csv\") # using create dataframe function from before. \n",
    "user_la = input(\"Please enter your local authority: \") # taking user input for LA_CO2 funtion.\n",
    "total_la_CO2_emissions = LA_CO2(la_df, user_la)  # remember this is for the total area. Divide this value by the\n",
    "# corresponding number of households in each area.\n",
    "\n",
    "local_authority average = round(total_la_CO2_emissions/int((la_df[la_df['Households'] == user_la])), 3)\n",
    "# divde by households - locate number of households in dataframe.\n",
    "\n",
    "print(\"\\nLocal authority average = \"local_authority_average, \"tonnes CO2e\")"
   ]
  },
  {
   "cell_type": "markdown",
   "metadata": {},
   "source": [
    "Now how about writing a comparison function to compare your footprint to local and national averages."
   ]
  },
  {
   "cell_type": "code",
   "execution_count": null,
   "metadata": {},
   "outputs": [],
   "source": [
    "def compare(i, j):\n",
    "    difference = round(int(i - j), 3)\n",
    "    print(\"\\n The difference between the footprints is: \", difference, \"tonnes CO2e\" )\n",
    "    \n",
    "compare(total_emissions, local_authority_average)\n",
    "\n",
    "uk_average = 9.84\n",
    "\n",
    "compare(total_emissions, uk_average)"
   ]
  },
  {
   "cell_type": "markdown",
   "metadata": {},
   "source": [
    "How does your footprint compare with your local authority average? Is it less or more? Which parts of your footprint are the largest? Can you cut down on the amount of meat you're eating, or change the way you commute to work in order to cut it back? \n",
    "\n",
    "To become more confident with the coding, why don't you incorporate a positive behaviour change to reduce your CO2 emissions and then come back to the code to see what impact it has made on the your footprint?"
   ]
  }
 ],
 "metadata": {
  "kernelspec": {
   "display_name": "Python 3",
   "language": "python",
   "name": "python3"
  },
  "language_info": {
   "codemirror_mode": {
    "name": "ipython",
    "version": 3
   },
   "file_extension": ".py",
   "mimetype": "text/x-python",
   "name": "python",
   "nbconvert_exporter": "python",
   "pygments_lexer": "ipython3",
   "version": "3.8.5"
  }
 },
 "nbformat": 4,
 "nbformat_minor": 4
}
